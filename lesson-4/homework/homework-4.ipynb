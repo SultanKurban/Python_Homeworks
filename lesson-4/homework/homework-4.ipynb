{
 "cells": [
  {
   "cell_type": "markdown",
   "id": "c5c517df",
   "metadata": {},
   "source": [
    "#### Homework 4"
   ]
  },
  {
   "cell_type": "code",
   "execution_count": 13,
   "id": "1cbb93af",
   "metadata": {},
   "outputs": [
    {
     "name": "stdout",
     "output_type": "stream",
     "text": [
      "['kitob', 'qalam', \"qog'oz\", 'ruchka', 'sumka', \"uchirg'ich\"]\n",
      "[\"uchirg'ich\", 'sumka', 'ruchka', \"qog'oz\", 'qalam', 'kitob']\n"
     ]
    }
   ],
   "source": [
    "# 1. Write a Python script to sort (ascending and descending) a dictionary by value.\n",
    "dict_1 = {'book'    : 'kitob',\n",
    "          'paper'   : \"qog'oz\",\n",
    "          'pen'     : 'ruchka',\n",
    "          'pencil'  : 'qalam',\n",
    "          'bag'     : 'sumka',\n",
    "          'eraser'  : \"uchirg'ich\"\n",
    "          }\n",
    "\n",
    "ascending = sorted(dict_1.values())\n",
    "descending = sorted(dict_1.values(), reverse=True)\n",
    "\n",
    "print(ascending)\n",
    "print(descending)\n"
   ]
  },
  {
   "cell_type": "code",
   "execution_count": 38,
   "id": "09c404d2",
   "metadata": {},
   "outputs": [
    {
     "data": {
      "text/plain": [
       "{0: 10, 1: 20, 2: 30}"
      ]
     },
     "execution_count": 38,
     "metadata": {},
     "output_type": "execute_result"
    }
   ],
   "source": [
    "# 2. Write a Python script to add a key to a dictionary.\n",
    "\n",
    "dict_2 = {0: 10, \n",
    "          1: 20\n",
    "          } \n",
    "\n",
    "dict_2.update({2:30})\n",
    "\n",
    "dict_2"
   ]
  },
  {
   "cell_type": "code",
   "execution_count": 42,
   "id": "de179331",
   "metadata": {},
   "outputs": [
    {
     "data": {
      "text/plain": [
       "{1: 10, 2: 20, 3: 30, 4: 40, 5: 50, 6: 60}"
      ]
     },
     "execution_count": 42,
     "metadata": {},
     "output_type": "execute_result"
    }
   ],
   "source": [
    "# 3. Write a Python script to concatenate the following dictionaries to create a new one.\n",
    "dic1 = {1: 10, 2: 20}\n",
    "dic2 = {3: 30, 4: 40}\n",
    "dic3 = {5: 50, 6: 60}\n",
    "\n",
    "dict_4 = {}\n",
    "dict_4.update(dic1)\n",
    "dict_4.update(dic2)\n",
    "dict_4.update(dic3)\n",
    "\n",
    "dict_4"
   ]
  },
  {
   "cell_type": "code",
   "execution_count": null,
   "id": "f094e62f",
   "metadata": {},
   "outputs": [
    {
     "data": {
      "text/plain": [
       "{1: 1, 2: 4, 3: 9, 4: 16, 5: 25}"
      ]
     },
     "execution_count": 87,
     "metadata": {},
     "output_type": "execute_result"
    }
   ],
   "source": [
    "# 4. Write a Python script to generate and print a dictionary that contains a number (between 1 and n) in the form (x, x*x).\n",
    "n = 5\n",
    "dic_new = {x : x*x\n",
    "           for x in range (1, n+1)\n",
    "           }\n",
    "\n",
    "dic_new\n"
   ]
  },
  {
   "cell_type": "code",
   "execution_count": 88,
   "id": "3afdb68d",
   "metadata": {},
   "outputs": [
    {
     "data": {
      "text/plain": [
       "{1: 1,\n",
       " 2: 4,\n",
       " 3: 9,\n",
       " 4: 16,\n",
       " 5: 25,\n",
       " 6: 36,\n",
       " 7: 49,\n",
       " 8: 64,\n",
       " 9: 81,\n",
       " 10: 100,\n",
       " 11: 121,\n",
       " 12: 144,\n",
       " 13: 169,\n",
       " 14: 196,\n",
       " 15: 225}"
      ]
     },
     "execution_count": 88,
     "metadata": {},
     "output_type": "execute_result"
    }
   ],
   "source": [
    "# 5. Write a Python script to print a dictionary where the keys are numbers between 1 and 15 (both included) and the values are the square of the keys\n",
    "n=15\n",
    "\n",
    "dic_5 = {x : x*x\n",
    "         for x in range (1, n+1)\n",
    "         }\n",
    "dic_5\n"
   ]
  },
  {
   "cell_type": "code",
   "execution_count": null,
   "id": "9b80cf7f",
   "metadata": {},
   "outputs": [
    {
     "data": {
      "text/plain": [
       "{1, 11, 112, 25, 66.34, 7, False, 'No', 'yes'}"
      ]
     },
     "execution_count": 56,
     "metadata": {},
     "output_type": "execute_result"
    }
   ],
   "source": [
    "# 6. Write a Python program to create a set.\n",
    "\n",
    "set_6 = {1, 7, 11, 25, 'yes', 66.34, 'No', True, 112, False}\n",
    "\n",
    "set_6"
   ]
  },
  {
   "cell_type": "code",
   "execution_count": 67,
   "id": "c2ed698b",
   "metadata": {},
   "outputs": [
    {
     "name": "stdout",
     "output_type": "stream",
     "text": [
      "False\n",
      "True\n",
      "66.34\n",
      "35\n",
      "4\n",
      "Ok\n",
      "7\n",
      "No\n",
      "112\n",
      "17\n"
     ]
    }
   ],
   "source": [
    "# 7. Write a Python program to iterate over sets.\n",
    "\n",
    "set_7 = {4, 7, 17, 35, 'Ok', 66.34, 'No', True, 112, False}\n",
    "\n",
    "for set_7 in set_7:\n",
    "    print(set_7) "
   ]
  },
  {
   "cell_type": "code",
   "execution_count": 70,
   "id": "d0874a01",
   "metadata": {},
   "outputs": [
    {
     "data": {
      "text/plain": [
       "{11, 212, 22, 27, 37, 4, 45, 51.34, 55, 'BOM', 'Demo', False, 'Nono', True}"
      ]
     },
     "execution_count": 70,
     "metadata": {},
     "output_type": "execute_result"
    }
   ],
   "source": [
    "# 8. Write a Python program to add member(s) to a set.\n",
    "\n",
    "set_8 = {4, 11, 27, 45, 'BOM', 51.34, 'Nono', True, 212, False}\n",
    "set_8_1 = {22, 37, 'Demo'}\n",
    "\n",
    "set_8.add(55)\n",
    "set_8.update(set_8_1)\n",
    "set_8"
   ]
  },
  {
   "cell_type": "code",
   "execution_count": 83,
   "id": "975c49ad",
   "metadata": {},
   "outputs": [
    {
     "data": {
      "text/plain": [
       "{11, 212, 22, 27, 37, 4, 51.34, 55, 'BOM', 'Demo', 'Nono', True}"
      ]
     },
     "execution_count": 83,
     "metadata": {},
     "output_type": "execute_result"
    }
   ],
   "source": [
    "# 9. Write a Python program to remove item(s) from a given set.\n",
    "\n",
    "set_9 = {11, 212, 22, 27, 37, 4, 45, 51.34, 55, 'BOM', 'Demo', False, 'Nono', True}\n",
    "\n",
    "set_9.pop()\n",
    "set_9.remove(45)\n",
    "\n",
    "set_9"
   ]
  },
  {
   "cell_type": "code",
   "execution_count": 82,
   "id": "663f20e0",
   "metadata": {},
   "outputs": [
    {
     "data": {
      "text/plain": [
       "{212, 24, 26, 37, 4, 51.34, 55, 9, 'BOM', 'Demo', False, 'Nono', True}"
      ]
     },
     "execution_count": 82,
     "metadata": {},
     "output_type": "execute_result"
    }
   ],
   "source": [
    "# 10. Write a Python program to remove an item from a set if it is present in the set.\n",
    "\n",
    "set_10 = {9, 212, 24, 27, 37, 4, 26, 51.34, 55, 'BOM', 'Demo', False, 'Nono', True}\n",
    "\n",
    "if 27 in set_10:\n",
    "    set_10.remove(27)\n",
    "\n",
    "set_10"
   ]
  }
 ],
 "metadata": {
  "kernelspec": {
   "display_name": "Python 3",
   "language": "python",
   "name": "python3"
  },
  "language_info": {
   "codemirror_mode": {
    "name": "ipython",
    "version": 3
   },
   "file_extension": ".py",
   "mimetype": "text/x-python",
   "name": "python",
   "nbconvert_exporter": "python",
   "pygments_lexer": "ipython3",
   "version": "3.13.5"
  }
 },
 "nbformat": 4,
 "nbformat_minor": 5
}
