{
 "cells": [
  {
   "cell_type": "markdown",
   "id": "5adfe953",
   "metadata": {},
   "source": [
    "#### Homework - 8"
   ]
  },
  {
   "cell_type": "markdown",
   "id": "2decd9a8",
   "metadata": {},
   "source": [
    "##### Exception Handling Exercises"
   ]
  },
  {
   "cell_type": "code",
   "execution_count": 8,
   "id": "ef404e55",
   "metadata": {},
   "outputs": [
    {
     "name": "stdout",
     "output_type": "stream",
     "text": [
      "ZeroDivisionError\n"
     ]
    }
   ],
   "source": [
    "# 1. Write a Python program to handle a ZeroDivisionError exception when dividing a number by zero.\n",
    "b=5\n",
    "try:\n",
    "    print(b / 0)\n",
    "except:\n",
    "    print('ZeroDivisionError')"
   ]
  },
  {
   "cell_type": "code",
   "execution_count": 17,
   "id": "c116011f",
   "metadata": {},
   "outputs": [
    {
     "name": "stdout",
     "output_type": "stream",
     "text": [
      "ValueError\n"
     ]
    }
   ],
   "source": [
    "# 2. Write a Python program that prompts the user to input an integer and raises a ValueError exception if the input is not a valid integer.\n",
    "\n",
    "try:\n",
    "    print(int(input(\"son kiritng\")))\n",
    "except:\n",
    "    print('ValueError')"
   ]
  },
  {
   "cell_type": "code",
   "execution_count": 54,
   "id": "d6606c1f",
   "metadata": {},
   "outputs": [
    {
     "name": "stdout",
     "output_type": "stream",
     "text": [
      "FileNotFoundError\n"
     ]
    }
   ],
   "source": [
    "# 3. Write a Python program that opens a file and handles a FileNotFoundError exception if the file does not exist.\n",
    "try:\n",
    "    my_sample = open('sample.txt')\n",
    "except:\n",
    "    print('FileNotFoundError')"
   ]
  },
  {
   "cell_type": "code",
   "execution_count": 33,
   "id": "8d4c9e28",
   "metadata": {},
   "outputs": [
    {
     "name": "stdout",
     "output_type": "stream",
     "text": [
      "9\n",
      "TypeError\n"
     ]
    }
   ],
   "source": [
    "# 4.Write a Python program that prompts the user to input two numbers and raises a TypeError exception if the inputs are not numerical.\n",
    "\n",
    "try:\n",
    "    print(int(input('1-son')))\n",
    "except:\n",
    "    print('TypeError')\n",
    "try:\n",
    "    print(int(input('2-son')))\n",
    "except:\n",
    "    print('TypeError')"
   ]
  },
  {
   "cell_type": "code",
   "execution_count": 93,
   "id": "01be5f98",
   "metadata": {},
   "outputs": [],
   "source": [
    "# 5. Write a Python program that opens a file and handles a PermissionError exception if there is a permission issue.\n",
    "try:\n",
    "    with open(\"example1.txt\", \"w\") as file:\n",
    "        file.write(\"Write someting in this file\")\n",
    "except PermissionError as e:\n",
    "    print('PermissionError', e)"
   ]
  },
  {
   "cell_type": "code",
   "execution_count": 36,
   "id": "07932dd7",
   "metadata": {},
   "outputs": [
    {
     "name": "stdout",
     "output_type": "stream",
     "text": [
      "IndexError\n"
     ]
    }
   ],
   "source": [
    "# 6. Write a Python program that executes an operation on a list and handles an IndexError exception if the index is out of range.\n",
    "\n",
    "my_list = [1, 3, 5, 7, 9]\n",
    "\n",
    "try:\n",
    "    print(my_list[11])\n",
    "except:\n",
    "    print('IndexError')"
   ]
  },
  {
   "cell_type": "code",
   "execution_count": 51,
   "id": "088bac2f",
   "metadata": {},
   "outputs": [
    {
     "name": "stdout",
     "output_type": "stream",
     "text": [
      "\n"
     ]
    }
   ],
   "source": [
    "# 7. Write a Python program that prompts the user to input a number and handles a KeyboardInterrupt exception if the user cancels the input.\n",
    "\n",
    "try:\n",
    "    print(input('Your name'))\n",
    "except KeyboardInterrupt:\n",
    "    print('You canceled')"
   ]
  },
  {
   "cell_type": "code",
   "execution_count": 38,
   "id": "e148bf10",
   "metadata": {},
   "outputs": [
    {
     "name": "stdout",
     "output_type": "stream",
     "text": [
      "ArithmeticError\n"
     ]
    }
   ],
   "source": [
    "# 8. Write a Python program that executes division and handles an ArithmeticError exception if there is an arithmetic error.\n",
    "a = 10\n",
    "try:\n",
    "    print(a / 0)\n",
    "except:\n",
    "    print('ArithmeticError')"
   ]
  },
  {
   "cell_type": "code",
   "execution_count": 84,
   "id": "7ecbd8db",
   "metadata": {},
   "outputs": [
    {
     "name": "stdout",
     "output_type": "stream",
     "text": [
      "UnicodeDecodeError\n"
     ]
    }
   ],
   "source": [
    "# 9. Write a Python program that opens a file and handles a UnicodeDecodeError exception if there is an encoding issue.\n",
    "\n",
    "#t = b\"a\".decode(\"ascii\")\n",
    "# Produces error\n",
    "\n",
    "try:\n",
    "    t1 = b\"a\\xf1\".decode(\"ascii\")\n",
    "except:\n",
    "    print('UnicodeDecodeError')"
   ]
  },
  {
   "cell_type": "code",
   "execution_count": 44,
   "id": "ef281c3d",
   "metadata": {},
   "outputs": [
    {
     "name": "stdout",
     "output_type": "stream",
     "text": [
      "AttributeError\n"
     ]
    }
   ],
   "source": [
    "# 10. Write a Python program that executes a list operation and handles an AttributeError exception if the attribute does not exist.\n",
    "\n",
    "a = 'kurbanov'\n",
    "try:\n",
    "    print(a.UpperCase())\n",
    "except:\n",
    "    print('AttributeError')"
   ]
  },
  {
   "cell_type": "markdown",
   "id": "9732987d",
   "metadata": {},
   "source": [
    "#### File Input/Output Exercises"
   ]
  },
  {
   "cell_type": "code",
   "execution_count": 99,
   "id": "27159257",
   "metadata": {},
   "outputs": [
    {
     "name": "stdout",
     "output_type": "stream",
     "text": [
      "\n"
     ]
    }
   ],
   "source": [
    "# 1. Write a Python program to read an entire text file.\n",
    "\n",
    "file =  open('C:\\\\Users\\\\User\\\\Documents\\\\sample_2.txt')\n",
    "print(file.read())"
   ]
  },
  {
   "cell_type": "code",
   "execution_count": 101,
   "id": "a0c36634",
   "metadata": {},
   "outputs": [
    {
     "name": "stdout",
     "output_type": "stream",
     "text": [
      "Trying to write something.\n"
     ]
    }
   ],
   "source": [
    "# 2. Write a Python program to read first n lines of a file.\n",
    "\n",
    "with open('example.txt') as file:\n",
    "    print(file.readline())"
   ]
  },
  {
   "cell_type": "code",
   "execution_count": 116,
   "id": "6f05a6d8",
   "metadata": {},
   "outputs": [
    {
     "name": "stdout",
     "output_type": "stream",
     "text": [
      "This is the 2nd line\n"
     ]
    }
   ],
   "source": [
    "# 3. Write a Python program to append text to a file and display the text.\n",
    "with open('example.txt', 'a') as file:\n",
    "    file.write('This is the 2nd line')\n",
    "    \n",
    "with open('example.txt', 'r') as file:\n",
    "    appended_text = file.read()\n",
    "    print(appended_text)\n"
   ]
  },
  {
   "cell_type": "code",
   "execution_count": null,
   "id": "c1481232",
   "metadata": {},
   "outputs": [
    {
     "name": "stdout",
     "output_type": "stream",
     "text": [
      "safafsaflas "
     ]
    }
   ],
   "source": [
    "# 4. Write a Python program to read last n lines of a file.\n",
    "n = 4\n",
    "\n",
    "with open('example1.txt', 'r') as file:\n",
    "    lines = file.readlines()\n",
    "for line in lines[n-1:]:\n",
    "    print(line, end = ' ')\n"
   ]
  },
  {
   "cell_type": "code",
   "execution_count": 135,
   "id": "26fd9a22",
   "metadata": {},
   "outputs": [
    {
     "name": "stdout",
     "output_type": "stream",
     "text": [
      "['This is the 2nd line', 'This is the 3rd line', 'This is the 4th line']\n"
     ]
    }
   ],
   "source": [
    "# 5. Write a Python program to read a file line by line and store it into a list.\n",
    "list = []\n",
    "with open('example.txt') as file:\n",
    "    line_list = file.readlines()\n",
    "\n",
    "line_list = [line.strip() for line in line_list]\n",
    "\n",
    "print(line_list)"
   ]
  },
  {
   "cell_type": "code",
   "execution_count": 6,
   "id": "28a3edc8",
   "metadata": {},
   "outputs": [
    {
     "name": "stdout",
     "output_type": "stream",
     "text": [
      "This is the 2nd line\n",
      "This is the 3rd line\n",
      "This is the 4th line\n"
     ]
    }
   ],
   "source": [
    "# 6. Write a Python program to read a file line by line and store it into a variable.\n",
    "\n",
    "with open('example.txt', 'r') as file:\n",
    "    line_variable = file.read()\n",
    "\n",
    "print(line_variable)"
   ]
  },
  {
   "cell_type": "code",
   "execution_count": 11,
   "id": "7b4ab1be",
   "metadata": {},
   "outputs": [
    {
     "name": "stdout",
     "output_type": "stream",
     "text": [
      "['This is the 2nd line', 'This is the 3rd line', 'This is the 4th line']\n"
     ]
    }
   ],
   "source": [
    "# 7. Write a Python program to read a file line by line and store it into an array.\n",
    "with open('example.txt', 'r') as file:\n",
    "    line_array = file.readlines()\n",
    "\n",
    "line_array = [line.strip() for line in line_array]\n",
    "print(line_array)"
   ]
  },
  {
   "cell_type": "code",
   "execution_count": 11,
   "id": "30a405ac",
   "metadata": {},
   "outputs": [
    {
     "name": "stdout",
     "output_type": "stream",
     "text": [
      "This\n"
     ]
    }
   ],
   "source": [
    "# 8. Write a Python program to find the longest words.\n",
    "\n",
    "with open('example.txt', 'r') as file:\n",
    "    words = file.read().split()\n",
    "\n",
    "longest = max(words, key=len)\n",
    "\n",
    "print(longest)"
   ]
  },
  {
   "cell_type": "code",
   "execution_count": 102,
   "id": "f9cdcd4e",
   "metadata": {},
   "outputs": [
    {
     "name": "stdout",
     "output_type": "stream",
     "text": [
      "4\n"
     ]
    }
   ],
   "source": [
    "# 9. Write a Python program to count the number of lines in a text file.\n",
    "\n",
    "with open('example1.txt', 'r') as file:\n",
    "    lines = file.readlines()\n",
    "\n",
    "print(len(lines))"
   ]
  },
  {
   "cell_type": "code",
   "execution_count": 55,
   "id": "5a6985e9",
   "metadata": {},
   "outputs": [
    {
     "name": "stdout",
     "output_type": "stream",
     "text": [
      "15\n"
     ]
    }
   ],
   "source": [
    "# 10. Write a Python program to count the frequency of words in a file.\n",
    "\n",
    "with open('example.txt', 'r') as file:\n",
    "    lines = file.read().split()\n",
    "    print(len(lines))\n"
   ]
  },
  {
   "cell_type": "code",
   "execution_count": 61,
   "id": "751bb17f",
   "metadata": {},
   "outputs": [
    {
     "name": "stdout",
     "output_type": "stream",
     "text": [
      "The size of your file is 64 kbs\n"
     ]
    }
   ],
   "source": [
    "# 11. Write a Python program to get the file size of a plain file.\n",
    "\n",
    "import os\n",
    "\n",
    "size = os.path.getsize('example.txt')\n",
    "print(f'The size of your file is {size} kbs')\n"
   ]
  },
  {
   "cell_type": "code",
   "execution_count": null,
   "id": "b2138c68",
   "metadata": {},
   "outputs": [
    {
     "name": "stdout",
     "output_type": "stream",
     "text": [
      "17\n"
     ]
    }
   ],
   "source": [
    "# 12. Write a Python program to write a list to a file.\n",
    "\n",
    "with open('example.txt', 'w') as file:\n",
    "    lines = file.write('This is 12 puzzle')"
   ]
  },
  {
   "cell_type": "code",
   "execution_count": 63,
   "id": "f84a5fca",
   "metadata": {},
   "outputs": [],
   "source": [
    "# 13. Write a Python program to copy the contents of a file to another file.\n",
    "\n",
    "with open('example.txt', 'r') as re, open('example1.txt', 'w') as wr:\n",
    "    wr.write(re.read())"
   ]
  },
  {
   "cell_type": "code",
   "execution_count": 70,
   "id": "2580026d",
   "metadata": {},
   "outputs": [
    {
     "name": "stdout",
     "output_type": "stream",
     "text": [
      "(('This is 12 puzzle', 'This is 12 puzzle'),)\n"
     ]
    }
   ],
   "source": [
    "# 14. Write a Python program to combine each line from the first file with the corresponding line in the second file.\n",
    "with open('example.txt', 'r') as r1, open('example1.txt', 'r') as r2:\n",
    "    \n",
    "    x = zip(r1.readlines(), r2.readlines())\n",
    "    print(tuple(x))\n",
    "\n"
   ]
  },
  {
   "cell_type": "code",
   "execution_count": 94,
   "id": "ff6f0519",
   "metadata": {},
   "outputs": [
    {
     "name": "stdout",
     "output_type": "stream",
     "text": [
      "This is 12 puzzle\n",
      "\n"
     ]
    }
   ],
   "source": [
    "# 15. Write a Python program to read a random line from a file.\n",
    "import random\n",
    "\n",
    "with open('example1.txt', 'r') as file:\n",
    "    my_list15 = file.readlines()\n",
    "\n",
    "    print(random.choice(my_list15))"
   ]
  },
  {
   "cell_type": "code",
   "execution_count": null,
   "id": "36361d44",
   "metadata": {},
   "outputs": [
    {
     "name": "stdout",
     "output_type": "stream",
     "text": [
      "True\n"
     ]
    }
   ],
   "source": [
    "# 16. Write a Python program to assess if a file is closed or not.\n",
    "\n",
    "with open('example1.txt', 'r'):\n",
    "    print(file.closed)\n"
   ]
  },
  {
   "cell_type": "code",
   "execution_count": 139,
   "id": "c6f6ba59",
   "metadata": {},
   "outputs": [
    {
     "name": "stdout",
     "output_type": "stream",
     "text": [
      "['This is 12 puzzle', 'ksadsa;fs;fa', 'slflafa;fasafsaf', 'safafsaflas']\n"
     ]
    }
   ],
   "source": [
    "# 17. Write a Python program to remove newline characters from a file.  \n",
    "\n",
    "with open('example1.txt', 'r') as file:\n",
    "    line17 = file.readlines()\n",
    "\n",
    "    my_lines = [line.strip() for line in line17]\n",
    "\n",
    "    print(my_lines)"
   ]
  },
  {
   "cell_type": "code",
   "execution_count": 142,
   "id": "6188c789",
   "metadata": {},
   "outputs": [
    {
     "name": "stdout",
     "output_type": "stream",
     "text": [
      "Number of words: 7\n"
     ]
    }
   ],
   "source": [
    "# 18. Write a Python program that takes a text file as input and returns the number of words in a given text file.\n",
    " # Note: Some words can be separated by a comma with no space.\n",
    "\n",
    "import re\n",
    "\n",
    "with open('example1.txt', 'r') as file:\n",
    "    text = file.read()\n",
    "\n",
    "words = re.split(r'\\s+|,', text.strip())\n",
    "words = [w for w in words if w]  \n",
    "\n",
    "print(\"Number of words:\", len(words))"
   ]
  },
  {
   "cell_type": "code",
   "execution_count": 155,
   "id": "dfeef358",
   "metadata": {},
   "outputs": [
    {
     "name": "stdout",
     "output_type": "stream",
     "text": [
      "['l', 'l', 'l', 'l']\n"
     ]
    }
   ],
   "source": [
    "# 19. Write a Python program to extract characters from various text files and put them into a list.\n",
    "\n",
    "with open('example1.txt', 'r') as file19:\n",
    "    characters = file19.read()\n",
    "    characters1 = list(characters)\n",
    "    newlist = []\n",
    "    for i in characters1:\n",
    "        if 'l' in i:\n",
    "            newlist.append(i)\n",
    "\n",
    "    print(newlist)"
   ]
  },
  {
   "cell_type": "code",
   "execution_count": 156,
   "id": "f4033783",
   "metadata": {},
   "outputs": [],
   "source": [
    "# 20. Write a Python program to generate 26 text files named A.txt, B.txt, and so on up to Z.txt.\n",
    "\n",
    "import string\n",
    "\n",
    "for letter in string.ascii_uppercase:\n",
    "    filename = f\"{letter}.txt\"\n",
    "    with open(filename, 'w') as file:\n",
    "        file.write(f'This is file {filename}\\n')"
   ]
  },
  {
   "cell_type": "code",
   "execution_count": 166,
   "id": "751b0120",
   "metadata": {},
   "outputs": [],
   "source": [
    "# 21. Write a Python program to create a file where all letters of the English alphabet are listed with a specified number of letters on each line.\n",
    "import string\n",
    "\n",
    "for letter1 in string.ascii_uppercase:\n",
    "    with open('example.txt', 'a') as file:\n",
    "        file.writelines(letter1 + '\\n')"
   ]
  }
 ],
 "metadata": {
  "kernelspec": {
   "display_name": "Python 3",
   "language": "python",
   "name": "python3"
  },
  "language_info": {
   "codemirror_mode": {
    "name": "ipython",
    "version": 3
   },
   "file_extension": ".py",
   "mimetype": "text/x-python",
   "name": "python",
   "nbconvert_exporter": "python",
   "pygments_lexer": "ipython3",
   "version": "3.13.5"
  }
 },
 "nbformat": 4,
 "nbformat_minor": 5
}
