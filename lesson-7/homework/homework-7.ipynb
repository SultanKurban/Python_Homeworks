{
 "cells": [
  {
   "cell_type": "markdown",
   "id": "a729ad09",
   "metadata": {},
   "source": [
    "#### Homework - 7"
   ]
  },
  {
   "cell_type": "code",
   "execution_count": 2,
   "id": "131d77ff",
   "metadata": {},
   "outputs": [
    {
     "data": {
      "text/plain": [
       "True"
      ]
     },
     "execution_count": 2,
     "metadata": {},
     "output_type": "execute_result"
    }
   ],
   "source": [
    "# 1. is_prime(n) funksiyasini hosil qiling (n > 0). Agar n soni tub bo'lsa True, aks holda False qiymat qaytarsin.\n",
    "\"\"\"Kiritish:\n",
    "4\n",
    "Natija:\n",
    "False\n",
    "(Izoh: 4 soni tub emas, chunki u 2 ga bo'linadi.)\"\"\"\n",
    "\n",
    "def is_prime(n):\n",
    "    # 1 is not prime\n",
    "    if n == 1:\n",
    "        return False\n",
    "\n",
    "    # 2 and 3 are prime\n",
    "    if n == 2 or n == 3:\n",
    "        return True\n",
    "\n",
    "    # eliminate multiples of 2 and 3\n",
    "    if n % 2 == 0 or n % 3 == 0:\n",
    "        return False\n",
    "\n",
    "    # check divisors of form 6k ± 1 up to √n\n",
    "    i = 5\n",
    "    while i * i <= n:\n",
    "        if n % i == 0 or n % (i + 2) == 0:\n",
    "            return False\n",
    "        i += 6\n",
    "\n",
    "    return True\n",
    "\n",
    "is_prime(7)\n"
   ]
  },
  {
   "cell_type": "code",
   "execution_count": null,
   "id": "d05969e8",
   "metadata": {},
   "outputs": [],
   "source": [
    "# 2. digit_sum(k) funksiyasini yozing, u k sonining raqamlari yig'indisini hisoblaydi.\n",
    "\"\"\"Kiritish:\n",
    "24\n",
    "Natija:\n",
    "6\n",
    "(Izoh: 24 sonining raqamlari yig'indisi: 2 + 4 = 6.)\n",
    "\n",
    "Kiritish:\n",
    "502\n",
    "Natija:\n",
    "7\n",
    "(Izoh: 502 sonining raqamlari yig'indisi: 5 + 0 + 2 = 7.)\"\"\"\n",
    "\n",
    "\n",
    "def digit_sum_arithmetic(k):\n",
    "    # Work with absolute value to handle negatives\n",
    "    k = abs(k)\n",
    "    total = 0\n",
    "\n",
    "    while k > 0:\n",
    "        digit = k % 10        # get last digit\n",
    "        total += digit        # add to total\n",
    "        k //= 10              # remove last digit\n",
    "\n",
    "    return total\n",
    "\n",
    "\n",
    "# 2-way\n",
    "def digit_sum_string(k):\n",
    "    # Work with absolute value to handle negatives\n",
    "    k = abs(k)\n",
    "    total = 0\n",
    "\n",
    "    for ch in str(k):         # iterate over each digit character\n",
    "        total += int(ch)      # convert back to int and add\n",
    "\n",
    "    return total\n"
   ]
  },
  {
   "cell_type": "code",
   "execution_count": null,
   "id": "47ca3859",
   "metadata": {},
   "outputs": [],
   "source": []
  },
  {
   "cell_type": "code",
   "execution_count": 1,
   "id": "686f848a",
   "metadata": {},
   "outputs": [],
   "source": [
    "# 3. Berilgan N sonidan oshmaydigan barcha 2 ning darajalarini (ya'ni, 2**k shaklidagi sonlarni) chop etuvchi funksiyani yozing.\n",
    "\n",
    "\"\"\"Kiritish:\n",
    "10\n",
    "Natija:\n",
    "2 4 8\n",
    "(Izoh: 10 dan kichik yoki teng bo'lgan 2 ning darajalari: 2, 4, 8.)\"\"\"\n",
    "\n",
    "def powers_of_two(N):\n",
    "    k = 0\n",
    "    value = 1   # 2**0 = 1 dan boshlaymiz\n",
    "\n",
    "    while value <= N:   # qiymat N dan oshmaguncha\n",
    "        print(value, end=\" \")\n",
    "        k += 1\n",
    "        value = 2 ** k   # keyingi daraja"
   ]
  }
 ],
 "metadata": {
  "kernelspec": {
   "display_name": "Python 3",
   "language": "python",
   "name": "python3"
  },
  "language_info": {
   "codemirror_mode": {
    "name": "ipython",
    "version": 3
   },
   "file_extension": ".py",
   "mimetype": "text/x-python",
   "name": "python",
   "nbconvert_exporter": "python",
   "pygments_lexer": "ipython3",
   "version": "3.13.5"
  }
 },
 "nbformat": 4,
 "nbformat_minor": 5
}
