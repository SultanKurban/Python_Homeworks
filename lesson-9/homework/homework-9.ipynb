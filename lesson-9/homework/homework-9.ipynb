{
 "cells": [
  {
   "cell_type": "markdown",
   "id": "c57c5c8d",
   "metadata": {},
   "source": [
    "#### Homework - 9"
   ]
  },
  {
   "cell_type": "markdown",
   "id": "8f941eff",
   "metadata": {},
   "source": [
    "#### Object-Oriented Programming (OOP) Exercises"
   ]
  },
  {
   "cell_type": "code",
   "execution_count": 22,
   "id": "50899286",
   "metadata": {},
   "outputs": [
    {
     "name": "stdout",
     "output_type": "stream",
     "text": [
      "78.53981633974483\n",
      "31.41592653589793\n"
     ]
    }
   ],
   "source": [
    "#1. Circle Class\n",
    "# Write a Python program to create a class representing a Circle. Include methods to calculate its area and perimeter.\n",
    "\n",
    "import math     # math library\n",
    "\n",
    "# creating class\n",
    "class Circle:\n",
    "    def __init__(self, radius):\n",
    "        self.radius = radius\n",
    "    \n",
    "    # creating method area\n",
    "    def area_(self):\n",
    "        self.areaa = math.pi * self.radius ** 2\n",
    "        print(self.areaa)\n",
    "\n",
    "    # creating method perimetr\n",
    "    def perimeter_(self):\n",
    "        self.peri = 2 * math.pi * self.radius\n",
    "        print(self.peri)\n",
    "    \n",
    "Circle_1 = Circle(5)\n",
    "\n",
    "Circle_1.area_()\n",
    "Circle_1.perimeter_()"
   ]
  },
  {
   "cell_type": "code",
   "execution_count": 97,
   "id": "59d4d235",
   "metadata": {},
   "outputs": [
    {
     "name": "stdout",
     "output_type": "stream",
     "text": [
      "Xasan, your age is 37 and You are from Uzbekistan\n"
     ]
    }
   ],
   "source": [
    "#2. Person Class\n",
    "#Write a Python program to create a Person class. Include attributes like name, country, and date of birth. Implement a method to determine the person's age.\n",
    "import datetime\n",
    "current_year = datetime.datetime.now()\n",
    "\n",
    "#print(current_year.year)\n",
    "class Person:\n",
    "    def __init__(self, name, country, date_of_birth):\n",
    "        self.name = name\n",
    "        self.country = country\n",
    "        self.date_of_birth = date_of_birth\n",
    "\n",
    "    def person_age(self):\n",
    "        self.p_a = current_year.year - self.date_of_birth\n",
    "        print(f'{self.name}, your age is {self.p_a} and You are from {self.country}' )\n",
    "\n",
    "\n",
    "Person_1 = Person('Xasan', 'Uzbekistan', 1988)\n",
    "Person_1.person_age()\n"
   ]
  },
  {
   "cell_type": "code",
   "execution_count": 90,
   "id": "1a7e88ee",
   "metadata": {},
   "outputs": [
    {
     "name": "stdout",
     "output_type": "stream",
     "text": [
      "a + b = 42\n",
      "a - b = 28\n",
      "a * b = 245\n",
      "a / b = 5.0\n"
     ]
    }
   ],
   "source": [
    "#3. Calculator Class\n",
    "#Write a Python program to create a Calculator class. Include methods for basic arithmetic operations.\n",
    "import math\n",
    "\n",
    "class Calculator:\n",
    "    def __init__(self, num1, num2):\n",
    "        self.num1 = num1\n",
    "        self.num2 = num2\n",
    "          \n",
    "    def adding(self):\n",
    "        self.add = self.num1 + self.num2\n",
    "        print(f'a + b = {self.add}')\n",
    "    \n",
    "    def subtracting(self):\n",
    "        self.subtr = self.num1 - self.num2\n",
    "        print(f'a - b = {self.subtr}')\n",
    "    \n",
    "    def multiply(self):\n",
    "        self.mult = self.num1 * self.num2\n",
    "        print(f'a * b = {self.mult}')\n",
    "\n",
    "    def dividing(self):\n",
    "        self.div = self.num1 / self.num2\n",
    "        print(f'a / b = {self.div}')\n",
    "\n",
    "misol_1 = Calculator(35, 7)\n",
    "\n",
    "misol_1.adding()\n",
    "misol_1.subtracting()\n",
    "misol_1.multiply()\n",
    "misol_1.dividing()"
   ]
  },
  {
   "cell_type": "code",
   "execution_count": null,
   "id": "23d27173",
   "metadata": {},
   "outputs": [
    {
     "name": "stdout",
     "output_type": "stream",
     "text": [
      "The area of circle = 3.141592653589793\n",
      "The length of circle = 6.283185307179586\n",
      "The area of triangle = 7.483314773547883\n",
      "The peremetr of triangle = 14\n",
      "The area of square = 36\n",
      "The peremetr of square = 24\n"
     ]
    }
   ],
   "source": [
    "#4. Shape and Subclasses\n",
    "#Write a Python program to create a class that represents a shape. Include methods to calculate its area and perimeter. Implement subclasses for different shapes like Circle, Triangle, and Square.\n",
    "\n",
    "import math\n",
    "\n",
    "class Shape:\n",
    "    def __init__(self):\n",
    "        print('This is a shape')\n",
    "   \n",
    "class Circle(Shape):\n",
    "    def __init__(self, radius):\n",
    "        self.radius = radius\n",
    "\n",
    "    def area_circle(self):\n",
    "        self.area_c = math.pi * self.radius ** 2\n",
    "        print(f'The area of circle = {self.area_c}')\n",
    "    \n",
    "    def peri_circle(self):\n",
    "        self.peri_c = 2 * math.pi * self.radius\n",
    "        print(f'The length of circle = {self.peri_c}')\n",
    "\n",
    "circle_4 = Circle(1)\n",
    "circle_4.area_circle()\n",
    "circle_4.peri_circle()\n",
    "\n",
    "class Triangle(Shape):\n",
    "    def __init__(self, side1, side2, side3):\n",
    "        self.side1 = side1\n",
    "        self.side2 = side2\n",
    "        self.side3 = side3\n",
    "      \n",
    "    def area_triangle(self):\n",
    "        s = (self.side1 + self.side2 + self.side3) / 2\n",
    "        self.area_t = math.sqrt(s * (s - self.side1) * (s - self.side2) * (s - self.side3))\n",
    "        print(f'The area of triangle = {self.area_t}')\n",
    "\n",
    "    def peri_triangle(self):\n",
    "        self.peri_t = self.side1 + self.side2 + self.side3\n",
    "        print(f'The peremetr of triangle = {self.peri_t}')\n",
    "\n",
    "triangle_4 = Triangle(5, 3, 6)\n",
    "triangle_4.area_triangle()\n",
    "triangle_4.peri_triangle()\n",
    "\n",
    "class Square(Shape):\n",
    "    def __init__(self, side ):\n",
    "        self.side = side\n",
    "\n",
    "    def area_square(self):\n",
    "        self.area_s = self.side ** 2\n",
    "        print(f'The area of square = {self.area_s}')\n",
    "    \n",
    "    def peri_square(self):\n",
    "        self.peri_s = self.side * 4\n",
    "        print(f'The peremetr of square = {self.peri_s}')\n",
    "\n",
    "square_4 = Square(6)\n",
    "square_4.area_square()\n",
    "square_4.peri_square()\n",
    "    \n"
   ]
  },
  {
   "cell_type": "code",
   "execution_count": 117,
   "id": "d9d30153",
   "metadata": {},
   "outputs": [
    {
     "name": "stdout",
     "output_type": "stream",
     "text": [
      "Inorder traversal (sorted): [20, 30, 40, 50, 60, 70, 80]\n"
     ]
    }
   ],
   "source": [
    "#5. Binary Search Tree Class\n",
    "#Write a Python program to create a class representing a binary search tree. Include methods for inserting and searching for elements in the binary tree.\n",
    "\n",
    "class Node:\n",
    "    def __init__(self, key):\n",
    "        self.key = key\n",
    "        self.left = None\n",
    "        self.right = None\n",
    "\n",
    "class BST:\n",
    "    def __init__(self):\n",
    "        self.root = None\n",
    "    \n",
    "    def insert(self, key):\n",
    "        if self.root is None:\n",
    "            self.root = Node(key)\n",
    "        else:\n",
    "            self.insert_(self.root, key)\n",
    "    \n",
    "    def insert_(self, current_node, key):\n",
    "        if key < current_node.key:\n",
    "            if current_node.left is None:\n",
    "                current_node.left = Node(key)\n",
    "            else:\n",
    "                self.insert_(current_node.left, key)\n",
    "        elif key > current_node.key:\n",
    "            if current_node.right is None:\n",
    "                current_node.right = Node(key)\n",
    "            else:\n",
    "                self.insert_(current_node.right, key)\n",
    "    \n",
    "    def inorder(self):\n",
    "        return self.inorder_(self.root)\n",
    "    \n",
    "    def inorder_(self, node):\n",
    "        result = []\n",
    "        if node:\n",
    "            result += self.inorder_(node.left)\n",
    "            result.append(node.key)\n",
    "            result += self.inorder_(node.right)\n",
    "        return result\n",
    "\n",
    "tree = BST()\n",
    "numbers = [50, 30, 70, 20, 40, 60, 80]\n",
    "\n",
    "for num in numbers:\n",
    "    tree.insert(num)\n",
    "\n",
    "print(\"Inorder traversal (sorted):\", tree.inorder())\n"
   ]
  },
  {
   "cell_type": "code",
   "execution_count": 500,
   "id": "f7e1255a",
   "metadata": {},
   "outputs": [
    {
     "name": "stdout",
     "output_type": "stream",
     "text": [
      "10 is pushed\n",
      "hello is pushed\n",
      "555 is pushed\n",
      "555 is poped\n",
      "hello is poped\n",
      "[10]\n"
     ]
    }
   ],
   "source": [
    "#6. Stack Data Structure\n",
    "#Write a Python program to create a class representing a stack data structure. Include methods for pushing and popping elements.\n",
    "\n",
    "class Stack:\n",
    "    def __init__(self):\n",
    "        self.my_datas = []\n",
    "  \n",
    "    def __repr__(self):\n",
    "        return f'{self.my_datas}'\n",
    "        \n",
    "    def push(self, data):\n",
    "        self.my_datas.append(data)\n",
    "        print(f'{data} is pushed')\n",
    "           \n",
    "    def pop_(self):\n",
    "        if self.my_datas:\n",
    "            data = self.my_datas.pop()\n",
    "            print(f'{data} is poped')\n",
    "            return data\n",
    "        else:\n",
    "            print(f'{self.my_datas} is empty')\n",
    "            return None\n",
    " \n",
    "data_0 = Stack()\n",
    "\n",
    "data_0.push(10)\n",
    "data_0.push('hello')\n",
    "data_0.push(555)\n",
    "\n",
    "data_0.pop_()\n",
    "data_0.pop_()\n",
    "\n",
    "print(data_0.my_datas)\n"
   ]
  },
  {
   "cell_type": "code",
   "execution_count": 499,
   "id": "850fc2c5",
   "metadata": {},
   "outputs": [
    {
     "name": "stdout",
     "output_type": "stream",
     "text": [
      "55 is inserted\n",
      "100 is inserted\n",
      "100 is deleted\n"
     ]
    },
    {
     "data": {
      "text/plain": [
       "[55]"
      ]
     },
     "execution_count": 499,
     "metadata": {},
     "output_type": "execute_result"
    }
   ],
   "source": [
    "\n",
    "# 7. Linked List Data Structure\n",
    "#Write a Python program to create a class representing a linked list data structure. Include methods for displaying linked list data, inserting, and deleting nodes.\n",
    "\n",
    "class ListData:\n",
    "    def __init__(self):\n",
    "        self.my_listdata = []\n",
    "    \n",
    "    def __repr__(self):\n",
    "        return (f'{self.my_listdata}')\n",
    "    \n",
    "    def insert_7(self, data7):\n",
    "        self.my_listdata.append(data7)\n",
    "        print(f'{data7} is inserted')\n",
    "        \n",
    "    def delete_7(self):\n",
    "        if self.my_listdata:\n",
    "            data7 = self.my_listdata.pop()\n",
    "            print(f'{data7} is deleted')\n",
    "            return data7\n",
    "        else:\n",
    "            print(f'{self.my_datas} is empty')\n",
    "            None\n",
    "        \n",
    "data7_0 = ListData()\n",
    "\n",
    "data7_0.insert_7(55)\n",
    "data7_0.insert_7(100)\n",
    "\n",
    "data7_0.delete_7()\n",
    "\n",
    "data7_0.my_listdata\n",
    "              \n",
    "             "
   ]
  },
  {
   "cell_type": "code",
   "execution_count": 483,
   "id": "5a14e183",
   "metadata": {},
   "outputs": [
    {
     "name": "stdout",
     "output_type": "stream",
     "text": [
      "Pen is added succesfully!\n",
      "Pencil is added succesfully!\n",
      "Book is added succesfully!\n",
      "Pen is deleted successfully\n",
      "Your balance is 330\n"
     ]
    },
    {
     "data": {
      "text/plain": [
       "[('Pencil', 200), ('Book', 130)]"
      ]
     },
     "execution_count": 483,
     "metadata": {},
     "output_type": "execute_result"
    }
   ],
   "source": [
    "# 8. Shopping Cart Class\n",
    "#Write a Python program to create a class representing a shopping cart. Include methods for adding and removing items, and calculating the total price.\n",
    "\n",
    "class Cart:\n",
    "    def __init__(self):\n",
    "        self.cart = []\n",
    "                      \n",
    "    def __repr__(self):\n",
    "        return (f'{self.cart}')\n",
    "    \n",
    "    def adding_8(self, name, price):\n",
    "        self.cart.append((name, price))\n",
    "        print(f'{name} is added succesfully!')\n",
    "      \n",
    "    def removing_8(self, name, price):\n",
    "        self.cart.remove((name, price))\n",
    "        print(f'{name} is deleted successfully')\n",
    "   #     print(f'Your balance is {remove_}')\n",
    "    \n",
    "    def calculate_8(self):\n",
    "        total = sum(cart_[1] for cart_ in self.cart)\n",
    "        print(f'Your balance is {total}')\n",
    "        return total\n",
    "        \n",
    "Customer_1 = Cart()\n",
    "\n",
    "Customer_1.adding_8('Pen', 150)\n",
    "\n",
    "Customer_1.adding_8('Pencil', 200)\n",
    "\n",
    "Customer_1.adding_8('Book', 130)\n",
    "\n",
    "Customer_1.removing_8('Pen', 150)\n",
    "\n",
    "Customer_1.calculate_8()\n",
    "\n",
    "Customer_1\n",
    "\n",
    "#item_1\n"
   ]
  },
  {
   "cell_type": "code",
   "execution_count": 510,
   "id": "3ef6c131",
   "metadata": {},
   "outputs": [
    {
     "name": "stdout",
     "output_type": "stream",
     "text": [
      "24 is pushid\n",
      "Hello is pushid\n",
      "555 is pushid\n",
      "Your stack has following datas: [24, 'Hello', 555]\n",
      "Your stack has following datas: [24, 'Hello', 555]\n",
      "Your stack has following datas: [24, 'Hello', 555]\n"
     ]
    }
   ],
   "source": [
    "# 9. Stack with Display\n",
    "#Write a Python program to create a class representing a stack data structure. Include methods for pushing, popping, and displaying elements.\n",
    "\n",
    "class Stack9:\n",
    "    def __init__(self):\n",
    "        self.datas = []\n",
    "    \n",
    "    def __repr__(self):\n",
    "        return f'{self.datas}'\n",
    "    \n",
    "    def pushing(self, data):\n",
    "        self.datas.append(data)\n",
    "        print(f'{data} is pushid')\n",
    "    \n",
    "    def poping(self):\n",
    "        if self.datas:\n",
    "            data = self.datas.pop()\n",
    "            print(f'{data} is poped')\n",
    "            return data\n",
    "        else:\n",
    "            print(f'{self.datas} is empty')\n",
    "            return None\n",
    "\n",
    "    def diplaying(self):\n",
    "        if not self.datas:\n",
    "            print('Stack is empty')\n",
    "        else:\n",
    "            for data in self.datas:\n",
    "                print(f'Your stack has following datas: {self.datas}')\n",
    "\n",
    "stack_1 = Stack9()\n",
    "\n",
    "stack_1.pushing(24)\n",
    "stack_1.pushing('Hello')\n",
    "stack_1.pushing(555)\n",
    "\n",
    "#stack_1.poping()\n",
    "\n",
    "stack_1.diplaying()"
   ]
  },
  {
   "cell_type": "code",
   "execution_count": 525,
   "id": "9a9c12d5",
   "metadata": {},
   "outputs": [
    {
     "name": "stdout",
     "output_type": "stream",
     "text": [
      "Your turn is 1\n",
      "Your turn is 2\n",
      "Your turn is 3\n",
      "Your turn is 4\n"
     ]
    },
    {
     "data": {
      "text/plain": [
       "[3, 4]"
      ]
     },
     "execution_count": 525,
     "metadata": {},
     "output_type": "execute_result"
    }
   ],
   "source": [
    "# 10. Queue Data Structure\n",
    "#Write a Python program to create a class representing a queue data structure. Include methods for enqueueing and dequeueing elements.\n",
    "\n",
    "class Queue:\n",
    "    def __init__(self):\n",
    "        self.que = []\n",
    "    \n",
    "    def __repr__(self):\n",
    "        return f'{self.que}'\n",
    "\n",
    "    def enq(self, number):\n",
    "        self.que.append(number)\n",
    "        print(f'Your turn is {self.que[-1]}')\n",
    "    \n",
    "    def deq(self):\n",
    "        self.que.pop(0)\n",
    "\n",
    "Client_1 = Queue()\n",
    "\n",
    "Client_1.enq(1)\n",
    "Client_1.enq(2)\n",
    "Client_1.enq(3)\n",
    "Client_1.enq(4)\n",
    "\n",
    "\n",
    "Client_1.deq()\n",
    "Client_1.deq()\n",
    "Client_1"
   ]
  },
  {
   "cell_type": "code",
   "execution_count": 546,
   "id": "a52a836d",
   "metadata": {},
   "outputs": [
    {
     "name": "stdout",
     "output_type": "stream",
     "text": [
      "You successfully registred Sultan.\n",
      "You successfully registred Anna.\n",
      "Your 350 is added into your account Sultan\n",
      "Your 500 is added into your account Anna\n",
      "Sultan is deleted from the system\n"
     ]
    },
    {
     "data": {
      "text/plain": [
       "[500]"
      ]
     },
     "execution_count": 546,
     "metadata": {},
     "output_type": "execute_result"
    }
   ],
   "source": [
    "# 11. Bank Class\n",
    "#Write a Python program to create a class representing a bank. Include methods for managing customer accounts and transactions.\n",
    "\n",
    "class Bank:\n",
    "    def __init__(self):\n",
    "        self.customers = []\n",
    "        self.moneys = []\n",
    "   #     self.transactions = []\n",
    "    \n",
    "    def __repr__(self):\n",
    "        return f'{self.customers}'\n",
    "    \n",
    "    def __repr__(self):\n",
    "        return f'{self.moneys}'\n",
    "    \n",
    "    def customer_reg(self, name):\n",
    "        self.customers.append(name)\n",
    "        print(f'You successfully registred {name}.')\n",
    "    \n",
    "    def money_add(self, summa, name):\n",
    "        self.moneys.append(summa)\n",
    "        print(f'Your {summa} is added into your account {name}')\n",
    "\n",
    "    def customer_del(self, name):\n",
    "        self.customers.remove(name)\n",
    "        print(f'{name} is deleted from the system')\n",
    "    \n",
    "    def money_del(self, summa, name):\n",
    "        self.moneys.remove(summa)\n",
    "        print(f'{summa} is taken from your account {name}')\n",
    "\n",
    "Cust_1 = Bank()\n",
    "Cust_2 = Bank()\n",
    "\n",
    "Cust_1.customer_reg('Sultan')\n",
    "Cust_2.customer_reg('Anna')\n",
    "\n",
    "Cust_1.money_add(350, 'Sultan')\n",
    "Cust_2.money_add(500, 'Anna')\n",
    "        \n",
    "Cust_1.customer_del('Sultan')\n",
    "\n",
    "Cust_2"
   ]
  }
 ],
 "metadata": {
  "kernelspec": {
   "display_name": "Python 3",
   "language": "python",
   "name": "python3"
  },
  "language_info": {
   "codemirror_mode": {
    "name": "ipython",
    "version": 3
   },
   "file_extension": ".py",
   "mimetype": "text/x-python",
   "name": "python",
   "nbconvert_exporter": "python",
   "pygments_lexer": "ipython3",
   "version": "3.13.5"
  }
 },
 "nbformat": 4,
 "nbformat_minor": 5
}
