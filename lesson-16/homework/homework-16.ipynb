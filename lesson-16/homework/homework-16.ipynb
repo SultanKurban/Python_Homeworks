{
 "cells": [
  {
   "cell_type": "markdown",
   "id": "59e927e3",
   "metadata": {},
   "source": [
    "### Homework - 16"
   ]
  },
  {
   "cell_type": "code",
   "execution_count": 8,
   "id": "3b5862fa",
   "metadata": {},
   "outputs": [
    {
     "name": "stdout",
     "output_type": "stream",
     "text": [
      "[34 56 78 99]\n"
     ]
    }
   ],
   "source": [
    "\"\"\"1. Convert List to 1D Array\n",
    " Write a NumPy program to convert a list of numeric values into a one-dimensional NumPy array.\n",
    "\n",
    "Expected Output:\n",
    "\n",
    "Original List: [12.23, 13.32, 100, 36.32] One-dimensional NumPy array: [ 12.23 13.32 100. 36.32]\"\"\"\n",
    "import numpy\n",
    "\n",
    "my_list = [34, 56, 78, 99]\n",
    "\n",
    "my_array = numpy.array(my_list)\n",
    "\n",
    "print(my_array)"
   ]
  },
  {
   "cell_type": "code",
   "execution_count": 14,
   "id": "957d3cdb",
   "metadata": {},
   "outputs": [
    {
     "name": "stdout",
     "output_type": "stream",
     "text": [
      "[[ 2  3  4]\n",
      " [ 5  6  7]\n",
      " [ 8  9 10]]\n"
     ]
    }
   ],
   "source": [
    "\"\"\"2. Create 3x3 Matrix (2?10)\n",
    "Write a NumPy program to create a 3x3 matrix with values ranging from 2 to 10.\n",
    "\n",
    "Expected Output:\n",
    "\n",
    "[[ 2 3 4] [ 5 6 7] [ 8 9 10]]\"\"\"\n",
    "\n",
    "import numpy\n",
    "\n",
    "my_list2 = [[2, 3, 4], [5, 6, 7], [8, 9, 10]]\n",
    "\n",
    "matrix = numpy.array(my_list2)\n",
    "\n",
    "print(matrix)"
   ]
  },
  {
   "cell_type": "code",
   "execution_count": 20,
   "id": "c46904cc",
   "metadata": {},
   "outputs": [
    {
     "name": "stdout",
     "output_type": "stream",
     "text": [
      "[ 0.  0.  0.  0.  0.  0. 11.  0.  0.  0.]\n"
     ]
    }
   ],
   "source": [
    "\"\"\"3. Null Vector (10) & Update Sixth Value\n",
    "Write a NumPy program to create a null vector of size 10 and update the sixth value to 11.\n",
    "\n",
    "[ 0. 0. 0. 0. 0. 0. 0. 0. 0. 0.]\n",
    "\n",
    "Update sixth value to 11 [ 0. 0. 0. 0. 0. 0. 11. 0. 0. 0.]\"\"\"\n",
    "\n",
    "import numpy as np\n",
    "\n",
    "null_vector = np.zeros(10)\n",
    "null_vector[6] = 11\n",
    "\n",
    "print(null_vector)"
   ]
  },
  {
   "cell_type": "code",
   "execution_count": 57,
   "id": "04587678",
   "metadata": {},
   "outputs": [
    {
     "name": "stdout",
     "output_type": "stream",
     "text": [
      "[12 13 14 15 16 17 18 19 20 21 22 23 24 25 26 27 28 29 30 31 32 33 34 35\n",
      " 36 37]\n"
     ]
    }
   ],
   "source": [
    "\"\"\"4. Array from 12 to 38\n",
    "Write a NumPy program to create an array with values ranging from 12 to 38.\n",
    "\n",
    "Expected Output:\n",
    "\n",
    "[12 13 14 15 16 17 18 19 20 21 22 23 24 25 26 27 28 29 30 31 32 33 34 35 36 37]\"\"\"\n",
    "\n",
    "import numpy as np\n",
    "\n",
    "range_4 = range(12, 38)\n",
    "\n",
    "#for i in range_4:\n",
    "  #  print(i)\n",
    "\n",
    "my_array4 = np.array(range_4)\n",
    "\n",
    "print(my_array4)"
   ]
  },
  {
   "cell_type": "code",
   "execution_count": 53,
   "id": "87218b36",
   "metadata": {},
   "outputs": [
    {
     "data": {
      "text/plain": [
       "array([1., 2., 3., 4.])"
      ]
     },
     "execution_count": 53,
     "metadata": {},
     "output_type": "execute_result"
    }
   ],
   "source": [
    "\"\"\"5. Convert Array to Float Type\n",
    "Write a NumPy program to convert an array to a floating type.\n",
    "\n",
    "Sample output:\n",
    "\n",
    "Original array [1, 2, 3, 4]\"\"\"\n",
    "\n",
    "import numpy\n",
    "\n",
    "my_array5 = np.array([1, 2, 3, 4])\n",
    "\n",
    "my_array5.astype(float)"
   ]
  },
  {
   "cell_type": "code",
   "execution_count": 118,
   "id": "6d7e2d1a",
   "metadata": {},
   "outputs": [
    {
     "name": "stdout",
     "output_type": "stream",
     "text": [
      "[-4.0000e-03  1.2002e+01  4.5212e+01  3.3998e+01  9.9914e+01  3.2000e+01]\n"
     ]
    }
   ],
   "source": [
    "\"\"\"6. Celsius to Fahrenheit Conversion\n",
    "Write a NumPy program to convert Centigrade degrees into Fahrenheit degrees. Centigrade values are stored in a NumPy array.\n",
    "\n",
    "Sample Array [0, 12, 45.21, 34, 99.91] [-17.78, -11.11, 7.34, 1.11, 37.73, 0. ]\n",
    "\n",
    "Expected Output:\n",
    "\n",
    "Values in Fahrenheit degrees: [ 0. 12. 45.21 34. 99.91 32. ]\n",
    "\n",
    "Values in Centigrade degrees: [-17.78 -11.11 7.34 1.11 37.73 0. ]\n",
    "\"\"\"\n",
    "import numpy\n",
    "\n",
    "C = [-17.78, -11.11, 7.34, 1.11, 37.73, 0. ]\n",
    "C_array = np.array(C)\n",
    "\n",
    "print(1.8*C_array + 32)\n",
    "\n"
   ]
  },
  {
   "cell_type": "code",
   "execution_count": null,
   "id": "65ceaac9",
   "metadata": {},
   "outputs": [
    {
     "data": {
      "text/plain": [
       "array([10, 20, 30, 40, 50, 60, 70, 80, 90])"
      ]
     },
     "execution_count": 91,
     "metadata": {},
     "output_type": "execute_result"
    }
   ],
   "source": [
    "\"\"\"7. Append Values to Array (Do self-tudy)\n",
    "Write a NumPy program to append values to the end of an array.\n",
    "\n",
    "Expected Output:\n",
    "\n",
    "Original array: [10, 20, 30]\n",
    "\n",
    "After append values to the end of the array: [10 20 30 40 50 60 70 80 90]\"\"\"\n",
    "import numpy\n",
    "\n",
    "original_array = [10, 20, 30]\n",
    "new_values = [40, 50, 60, 70, 80, 90]\n",
    "\n",
    "original_array_1 = np.array(original_array)\n",
    "\n",
    "numpy.append(original_array_1, new_values, axis=None )\n"
   ]
  },
  {
   "cell_type": "code",
   "execution_count": 85,
   "id": "7e227b33",
   "metadata": {},
   "outputs": [
    {
     "name": "stdout",
     "output_type": "stream",
     "text": [
      "[94 78 70 85  2 45 42 24 78 27]\n",
      "54.5\n",
      "23.5\n",
      "29.196746394076175\n"
     ]
    }
   ],
   "source": [
    "\"\"\"8. Array Statistical Functions (Do self-tudy)\n",
    "Create a random NumPy array of 10 elements and calculate the mean, median, and standard deviation of the array.\"\"\"\n",
    "import math\n",
    "from numpy import random\n",
    "random_8 = random.randint(100, size=(10))\n",
    "\n",
    "print(random_8)\n",
    "print(random_8.mean())\n",
    "print((random_8[4]+random_8[5])/2)\n",
    "\n",
    "variance = sum((random_8 - random_8.mean())**2)/10\n",
    "print(math.sqrt(variance))"
   ]
  },
  {
   "cell_type": "code",
   "execution_count": 41,
   "id": "7c29fe97",
   "metadata": {},
   "outputs": [
    {
     "name": "stdout",
     "output_type": "stream",
     "text": [
      "[[0.01087317 0.33885754 0.8538328  0.98709638 0.25128668 0.80091058\n",
      "  0.47995422 0.67583    0.18852638 0.44893955]\n",
      " [0.9375994  0.70513663 0.8387356  0.47596676 0.14527232 0.83003375\n",
      "  0.1867471  0.50886908 0.38200537 0.35913076]\n",
      " [0.7211761  0.01271275 0.23850094 0.89369136 0.99751131 0.34490668\n",
      "  0.97309429 0.86414304 0.88042609 0.97876361]\n",
      " [0.4883256  0.67155199 0.43365224 0.30770701 0.52442162 0.07864539\n",
      "  0.10482508 0.36665392 0.96045821 0.886388  ]\n",
      " [0.79939995 0.9629281  0.86056293 0.18165871 0.01814089 0.53511105\n",
      "  0.12239323 0.72567514 0.43066849 0.22819146]\n",
      " [0.41852276 0.9516753  0.37416334 0.03937392 0.93660535 0.33773294\n",
      "  0.58245907 0.0490904  0.9221212  0.18043409]\n",
      " [0.93904132 0.66138975 0.99224326 0.96004666 0.91975638 0.40718322\n",
      "  0.98967815 0.35728629 0.16130054 0.63178094]\n",
      " [0.20471935 0.2402719  0.22174402 0.45892371 0.92111175 0.91319938\n",
      "  0.73006631 0.01174012 0.67699069 0.21582154]\n",
      " [0.71752532 0.0605317  0.82139018 0.86565534 0.81787191 0.14586425\n",
      "  0.50973463 0.63281525 0.47639738 0.01361327]\n",
      " [0.88856049 0.19514372 0.30559065 0.08762488 0.25208701 0.95088044\n",
      "  0.14894995 0.60371335 0.39622667 0.25234273]]\n",
      "0.997511311925467\n",
      "0.010873172408756404\n"
     ]
    }
   ],
   "source": [
    "\"\"\"9 Find min and max\n",
    "Create a 10x10 array with random values and find the minimum and maximum values.\"\"\"\n",
    "\n",
    "from numpy import random\n",
    "\n",
    "random_values = random.rand(10,10)\n",
    "\n",
    "print(random_values)\n",
    "\n",
    "print(random_values.max())\n",
    "\n",
    "print(random_values.min())"
   ]
  },
  {
   "cell_type": "code",
   "execution_count": 46,
   "id": "1a6bbd23",
   "metadata": {},
   "outputs": [
    {
     "data": {
      "text/plain": [
       "array([[[0.76334282, 0.36040422, 0.19570868],\n",
       "        [0.7503266 , 0.44412171, 0.63546559],\n",
       "        [0.62404701, 0.71271615, 0.68819623]],\n",
       "\n",
       "       [[0.8743767 , 0.38755681, 0.96247722],\n",
       "        [0.05308446, 0.97026142, 0.36489895],\n",
       "        [0.26564477, 0.76259181, 0.80151411]],\n",
       "\n",
       "       [[0.26221969, 0.14190884, 0.08159197],\n",
       "        [0.21428549, 0.81435615, 0.04352771],\n",
       "        [0.59217285, 0.2070616 , 0.16287613]]])"
      ]
     },
     "execution_count": 46,
     "metadata": {},
     "output_type": "execute_result"
    }
   ],
   "source": [
    "\"\"\"10\n",
    "Create a 3x3x3 array with random values.\"\"\"\n",
    "\n",
    "from numpy import random\n",
    "\n",
    "my_array10 = random.rand(3,3,3)\n",
    "\n",
    "my_array10"
   ]
  }
 ],
 "metadata": {
  "kernelspec": {
   "display_name": "Python 3",
   "language": "python",
   "name": "python3"
  },
  "language_info": {
   "codemirror_mode": {
    "name": "ipython",
    "version": 3
   },
   "file_extension": ".py",
   "mimetype": "text/x-python",
   "name": "python",
   "nbconvert_exporter": "python",
   "pygments_lexer": "ipython3",
   "version": "3.13.7"
  }
 },
 "nbformat": 4,
 "nbformat_minor": 5
}
