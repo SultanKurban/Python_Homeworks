{
 "cells": [
  {
   "cell_type": "markdown",
   "id": "4022755a",
   "metadata": {},
   "source": [
    "#### Homework - 3"
   ]
  },
  {
   "cell_type": "code",
   "execution_count": 14,
   "id": "f8a144bc",
   "metadata": {},
   "outputs": [
    {
     "name": "stdout",
     "output_type": "stream",
     "text": [
      "grape\n"
     ]
    }
   ],
   "source": [
    "# 1. Create a list containing five different fruits and print the third fruit.\n",
    "\n",
    "fruits = ['apple', 'orange', 'banana', 'grape', 'leamon']\n",
    "\n",
    "print(fruits[3])\n"
   ]
  },
  {
   "cell_type": "code",
   "execution_count": 15,
   "id": "3e2cd1e4",
   "metadata": {},
   "outputs": [
    {
     "name": "stdout",
     "output_type": "stream",
     "text": [
      "[1, 3, 5, 7, 9, 2, 4, 6, 8, 10]\n"
     ]
    }
   ],
   "source": [
    "# 2. Create two lists of numbers and concatenate them into a single list.\n",
    "\n",
    "list_1 = [1, 3, 5, 7, 9]\n",
    "\n",
    "list_2 = [2, 4, 6, 8, 10]\n",
    "\n",
    "list_1.extend(list_2)       # \n",
    "\n",
    "\n",
    "print(list_1)\n",
    "\n"
   ]
  },
  {
   "cell_type": "code",
   "execution_count": 124,
   "id": "aca2a9fa",
   "metadata": {},
   "outputs": [
    {
     "data": {
      "text/plain": [
       "[5, 57, 93]"
      ]
     },
     "execution_count": 124,
     "metadata": {},
     "output_type": "execute_result"
    }
   ],
   "source": [
    "# 3. Given a list of numbers, extract the first, middle, and last elements and store them in a new list.\n",
    "\n",
    "num_3 = [5, 14, 22, 36, 41, 57, 62, 73, 88, 93]\n",
    "\n",
    "first_ = num_3[0]\n",
    "last_= num_3[-1]\n",
    "\n",
    "#middle_index=len(num_3)//2\n",
    "#middle_index\n",
    "#middle_= num_3[middle_index]\n",
    "#middle_\n",
    "\n",
    "middle_= num_3[len(num_3)//2]\n",
    "\n",
    "new_list = [first_, middle_, last_]\n",
    "\n",
    "new_list"
   ]
  },
  {
   "cell_type": "code",
   "execution_count": 168,
   "id": "bdd48506",
   "metadata": {},
   "outputs": [
    {
     "data": {
      "text/plain": [
       "('Titanic', 'Troy', 'King of rings')"
      ]
     },
     "execution_count": 168,
     "metadata": {},
     "output_type": "execute_result"
    }
   ],
   "source": [
    "# 4. Create a list of your five favorite movies and convert it into a tuple.\n",
    "\n",
    "movies = [\"Titanic\", \"Troy\", \"King of rings\"]\n",
    "\n",
    "my_tuple = tuple(movies)\n",
    "\n",
    "my_tuple\n"
   ]
  },
  {
   "cell_type": "code",
   "execution_count": 90,
   "id": "14dbf68e",
   "metadata": {},
   "outputs": [
    {
     "name": "stdout",
     "output_type": "stream",
     "text": [
      "Paris is in the list\n"
     ]
    }
   ],
   "source": [
    "# 5. Given a list of cities, check if \"Paris\" is in the list and print the result\n",
    "\n",
    "cities = ['London', 'Baku', 'Paris', 'Madrid']\n",
    "\n",
    "if 'Paris' in cities:\n",
    "    print('Paris is in the list')"
   ]
  },
  {
   "cell_type": "code",
   "execution_count": 74,
   "id": "b8df2565",
   "metadata": {},
   "outputs": [
    {
     "data": {
      "text/plain": [
       "[6, 16, 26, 36, 46, 6, 16, 26, 36, 46]"
      ]
     },
     "execution_count": 74,
     "metadata": {},
     "output_type": "execute_result"
    }
   ],
   "source": [
    "# 6. Create a list of numbers and duplicate it without using loops.\n",
    "\n",
    "list_6= [6, 16, 26, 36, 46]\n",
    "\n",
    "list_6 + list_6"
   ]
  },
  {
   "cell_type": "code",
   "execution_count": 65,
   "id": "9571820f",
   "metadata": {},
   "outputs": [
    {
     "data": {
      "text/plain": [
       "[62, 13, 24, 37, 48, 55, 7]"
      ]
     },
     "execution_count": 65,
     "metadata": {},
     "output_type": "execute_result"
    }
   ],
   "source": [
    "# 7. Given a list of numbers, swap the first and last elements.\n",
    "\n",
    "list_num = [7, 13, 24, 37, 48, 55, 62]\n",
    "\n",
    "swap_ = list_num[0]\n",
    "\n",
    "list_num[0] = list_num[-1]\n",
    "\n",
    "list_num[-1] = swap_\n",
    "\n",
    "list_num\n"
   ]
  },
  {
   "cell_type": "code",
   "execution_count": 176,
   "id": "d185eed7",
   "metadata": {},
   "outputs": [
    {
     "name": "stdout",
     "output_type": "stream",
     "text": [
      "(4, 5, 6, 7)\n"
     ]
    }
   ],
   "source": [
    "# 8. Create a tuple of numbers from 1 to 10 and print a slice from index 3 to 7.\n",
    "\n",
    "num_tuple = (1, 2, 3, 4, 5, 6, 7, 8, 9, 10)\n",
    "\n",
    "print(num_tuple[3:7])"
   ]
  },
  {
   "cell_type": "code",
   "execution_count": 120,
   "id": "7aa52e8d",
   "metadata": {},
   "outputs": [
    {
     "data": {
      "text/plain": [
       "2"
      ]
     },
     "execution_count": 120,
     "metadata": {},
     "output_type": "execute_result"
    }
   ],
   "source": [
    "# 9. Create a list of colors and count how many times \"blue\" appears in the list.\n",
    "\n",
    "colors = ['blue', 'red', 'orange', 'black', 'blue', 'white', 'red']\n",
    "\n",
    "colors.count('blue')"
   ]
  },
  {
   "cell_type": "code",
   "execution_count": 185,
   "id": "2c87a0fd",
   "metadata": {},
   "outputs": [
    {
     "data": {
      "text/plain": [
       "2"
      ]
     },
     "execution_count": 185,
     "metadata": {},
     "output_type": "execute_result"
    }
   ],
   "source": [
    "# 10. Given a tuple of animals, find the index of \"lion\".\n",
    "\n",
    "animals = ('monkey', 'tiger', 'lion', 'wolf')\n",
    "\n",
    "animals.index('lion')\n"
   ]
  },
  {
   "cell_type": "code",
   "execution_count": 184,
   "id": "836245bd",
   "metadata": {},
   "outputs": [
    {
     "data": {
      "text/plain": [
       "(2, 4, 6, 8, 1, 3, 5, 7)"
      ]
     },
     "execution_count": 184,
     "metadata": {},
     "output_type": "execute_result"
    }
   ],
   "source": [
    "# 11. Create two tuples of numbers and merge them into a single tuple.\n",
    "\n",
    "num_tuple_1 = (2, 4, 6, 8)\n",
    "\n",
    "num_tuple_2 = (1, 3, 5, 7)\n",
    "\n",
    "num_tuple_1 += num_tuple_2\n",
    "\n",
    "num_tuple_1"
   ]
  },
  {
   "cell_type": "code",
   "execution_count": null,
   "id": "f58c4cde",
   "metadata": {},
   "outputs": [
    {
     "name": "stdout",
     "output_type": "stream",
     "text": [
      "14\n",
      "8\n"
     ]
    }
   ],
   "source": [
    "# 12. Given a list and a tuple, find and print their lengths.\n",
    "\n",
    "letters_list = ['a', 'b', 'c', 'd', 'e', 'f', 'g', 'h', 'j', 'k', 'l', 'm', 'n', 'o']\n",
    "\n",
    "letters_tuple = ('q', 'w', 's', 'x', 'z', 'm', 'y', 'p')\n",
    "\n",
    "print(len(letters_list))\n",
    "\n",
    "print(len(letters_tuple))\n"
   ]
  },
  {
   "cell_type": "code",
   "execution_count": 204,
   "id": "5f08b11d",
   "metadata": {},
   "outputs": [
    {
     "data": {
      "text/plain": [
       "[13, 25, 36, 41, 58]"
      ]
     },
     "execution_count": 204,
     "metadata": {},
     "output_type": "execute_result"
    }
   ],
   "source": [
    "# 13. Create a tuple of five numbers and convert it into a list.\n",
    "\n",
    "nume_tuple_13 = (13, 25, 36, 41, 58)\n",
    "\n",
    "new_list = list(nume_tuple_13)\n",
    "\n",
    "new_list\n"
   ]
  },
  {
   "cell_type": "code",
   "execution_count": 202,
   "id": "3ebce2f7",
   "metadata": {},
   "outputs": [
    {
     "name": "stdout",
     "output_type": "stream",
     "text": [
      "8\n",
      "1\n"
     ]
    }
   ],
   "source": [
    "# 14. Given a tuple of numbers, find and print the maximum and minimum values.\n",
    "\n",
    "num_tuple_1 = (2, 4, 6, 8, 1, 3, 5, 7)\n",
    "\n",
    "print(max(num_tuple_1))\n",
    "print(min(num_tuple_1))"
   ]
  },
  {
   "cell_type": "code",
   "execution_count": 203,
   "id": "d6c3fb8b",
   "metadata": {},
   "outputs": [
    {
     "name": "stdout",
     "output_type": "stream",
     "text": [
      "('sister', 'brother', 'father', 'mother')\n"
     ]
    }
   ],
   "source": [
    "# 15. Create a tuple of words and print it in reverse order.\n",
    "\n",
    "words = ('mother', 'father', 'brother', 'sister')\n",
    "\n",
    "print(words [::-1])"
   ]
  }
 ],
 "metadata": {
  "kernelspec": {
   "display_name": "Python 3",
   "language": "python",
   "name": "python3"
  },
  "language_info": {
   "codemirror_mode": {
    "name": "ipython",
    "version": 3
   },
   "file_extension": ".py",
   "mimetype": "text/x-python",
   "name": "python",
   "nbconvert_exporter": "python",
   "pygments_lexer": "ipython3",
   "version": "3.13.5"
  }
 },
 "nbformat": 4,
 "nbformat_minor": 5
}
