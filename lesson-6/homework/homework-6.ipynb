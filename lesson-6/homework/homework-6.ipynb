{
 "cells": [
  {
   "cell_type": "markdown",
   "id": "48c0916f",
   "metadata": {},
   "source": [
    "#### Homework - 6"
   ]
  },
  {
   "cell_type": "code",
   "execution_count": 346,
   "id": "9199afe2",
   "metadata": {},
   "outputs": [
    {
     "name": "stdout",
     "output_type": "stream",
     "text": [
      "ada_dsa_pad_sjl_pof\n"
     ]
    }
   ],
   "source": [
    "# 1. Given a string txt, insert an underscore (_) after every third character. If a character is a vowel or already has an underscore after it, \n",
    "        # shift the underscore placement to the next character. No underscore should be added at the end.\n",
    "                # Input: hello Output: hel_lo\n",
    "\n",
    "txt = \"adadsapadsjlpof\"\n",
    "result = \"\"\n",
    "for i in range(len(txt)):\n",
    "    result += txt[i]\n",
    "    if (i + 1) % 3 == 0 and i != len(txt) - 1:\n",
    "        result += \"_\"\n",
    "print(result)"
   ]
  },
  {
   "cell_type": "code",
   "execution_count": 35,
   "id": "7500759e",
   "metadata": {},
   "outputs": [
    {
     "name": "stdout",
     "output_type": "stream",
     "text": [
      "0\n",
      "1\n",
      "4\n",
      "9\n",
      "16\n"
     ]
    }
   ],
   "source": [
    "# 2. The provided code stub reads an integer, n, from STDIN. For all non-negative integers i where 0 <= i < n, print i^2.\n",
    "\n",
    "n = int(input('Son kiriting'))\n",
    "\n",
    "for i in range(n):\n",
    "    if 0 <= i <= n:\n",
    "        print(i**2)\n",
    "  "
   ]
  },
  {
   "cell_type": "code",
   "execution_count": 4,
   "id": "ed8b168c",
   "metadata": {},
   "outputs": [
    {
     "name": "stdout",
     "output_type": "stream",
     "text": [
      "1\n",
      "2\n",
      "3\n",
      "4\n",
      "5\n",
      "6\n",
      "7\n",
      "8\n",
      "9\n",
      "10\n"
     ]
    }
   ],
   "source": [
    "# 3. Exercise 1: Print first 10 natural numbers using a while loop\n",
    "\n",
    "num1 = 1\n",
    "num2 = 10\n",
    "\n",
    "while num1 <= num2:\n",
    "    print(num1)\n",
    "    num1 +=1\n"
   ]
  },
  {
   "cell_type": "code",
   "execution_count": 347,
   "id": "538dcdb8",
   "metadata": {},
   "outputs": [
    {
     "name": "stdout",
     "output_type": "stream",
     "text": [
      "1 \n",
      "1 2 \n",
      "1 2 3 \n",
      "1 2 3 4 \n",
      "1 2 3 4 5 \n"
     ]
    }
   ],
   "source": [
    "# Exercise 2: Print the following patters\n",
    "\"\"\"\n",
    "1\n",
    "1 2\n",
    "1 2 3\n",
    "1 2 3 4\n",
    "1 2 3 4 5\n",
    "\"\"\"\n",
    "\n",
    "rows = 5\n",
    "for i in range(1, rows + 1):\n",
    "    for j in range(1, i + 1):\n",
    "        print(j, end=\" \")\n",
    "    print()"
   ]
  },
  {
   "cell_type": "code",
   "execution_count": 78,
   "id": "96e426cc",
   "metadata": {},
   "outputs": [
    {
     "data": {
      "text/plain": [
       "55"
      ]
     },
     "execution_count": 78,
     "metadata": {},
     "output_type": "execute_result"
    }
   ],
   "source": [
    "# Exercise 3: Calculate sum of all numbers from 1 to a given number\n",
    "st_num = 1\n",
    "ent_num = 10\n",
    "\n",
    "sum(range(st_num, ent_num + 1))"
   ]
  },
  {
   "cell_type": "code",
   "execution_count": 110,
   "id": "caf572f9",
   "metadata": {},
   "outputs": [
    {
     "name": "stdout",
     "output_type": "stream",
     "text": [
      "2\n",
      "4\n",
      "6\n",
      "8\n",
      "10\n",
      "12\n",
      "14\n",
      "16\n",
      "18\n",
      "20\n"
     ]
    }
   ],
   "source": [
    "# Exercise 4: Print multiplication table of a given number\n",
    "\n",
    "first_num = 1\n",
    "given_num = 2\n",
    "\n",
    "while first_num <=10:\n",
    "    print(first_num * given_num)\n",
    "    first_num += 1"
   ]
  },
  {
   "cell_type": "code",
   "execution_count": null,
   "id": "63c28225",
   "metadata": {},
   "outputs": [
    {
     "name": "stdout",
     "output_type": "stream",
     "text": [
      "75\n",
      "150\n",
      "145\n"
     ]
    }
   ],
   "source": [
    "# Exercise 5: Display numbers from a list using a loop\n",
    "numbers = [12, 75, 150, 180, 145, 525, 50]\n",
    "\n",
    "for i in numbers:\n",
    "    if i <= 50:\n",
    "       continue\n",
    "    if i > 150:\n",
    "        continue     \n",
    "    print(i)"
   ]
  },
  {
   "cell_type": "code",
   "execution_count": 164,
   "id": "1ff78d44",
   "metadata": {},
   "outputs": [
    {
     "name": "stdout",
     "output_type": "stream",
     "text": [
      "5\n"
     ]
    }
   ],
   "source": [
    "# Exercise 6: Count the total number of digits in a number\n",
    "\n",
    "number = 75869\n",
    "count = 0\n",
    "\n",
    "while number > 0:\n",
    "    number //= 10\n",
    "    count +=1\n",
    "print(count)\n",
    "    "
   ]
  },
  {
   "cell_type": "code",
   "execution_count": 235,
   "id": "bd74fd5c",
   "metadata": {},
   "outputs": [
    {
     "name": "stdout",
     "output_type": "stream",
     "text": [
      "red apple\n",
      "red banana\n",
      "red cherry\n",
      "big apple\n",
      "big banana\n",
      "big cherry\n",
      "tasty apple\n",
      "tasty banana\n",
      "tasty cherry\n"
     ]
    }
   ],
   "source": [
    "adj = [\"red\", \"big\", \"tasty\"]\n",
    "fruits = [\"apple\", \"banana\", \"cherry\"]\n",
    "\n",
    "for x in adj:\n",
    "  for y in fruits:\n",
    "    print(x, y)"
   ]
  },
  {
   "cell_type": "code",
   "execution_count": null,
   "id": "57742fad",
   "metadata": {},
   "outputs": [
    {
     "name": "stdout",
     "output_type": "stream",
     "text": [
      "5 4 3 2 1 \n",
      "4 3 2 1 \n",
      "3 2 1 \n",
      "2 1 \n",
      "1 \n"
     ]
    }
   ],
   "source": [
    "# Exercise 7: Print reverse number pattern\n",
    "\"\"\"5 4 3 2 1\n",
    "4 3 2 1\n",
    "3 2 1\n",
    "2 1\n",
    "1\"\"\"\n",
    "\n",
    "rows = 5\n",
    "for i in range(rows, 0, -1):       \n",
    "    for j in range(i, 0, -1):      \n",
    "        print(j, end=\" \")\n",
    "    print()\n",
    "    \n",
    "      "
   ]
  },
  {
   "cell_type": "code",
   "execution_count": null,
   "id": "c9efc0a7",
   "metadata": {},
   "outputs": [
    {
     "name": "stdout",
     "output_type": "stream",
     "text": [
      "50\n",
      "40\n",
      "30\n",
      "20\n",
      "10\n"
     ]
    }
   ],
   "source": [
    "# Exercise 8: Print list in reverse order using a loop\n",
    "\n",
    "list1 = [10, 20, 30, 40, 50]\n",
    "rever_list1 = reversed(list1)\n",
    "\n",
    "for i in rever_list1:\n",
    "    print(i)"
   ]
  },
  {
   "cell_type": "code",
   "execution_count": 174,
   "id": "b5317fbb",
   "metadata": {},
   "outputs": [
    {
     "name": "stdout",
     "output_type": "stream",
     "text": [
      "-10\n",
      "-9\n",
      "-8\n",
      "-7\n",
      "-6\n",
      "-5\n",
      "-4\n",
      "-3\n",
      "-2\n",
      "-1\n"
     ]
    }
   ],
   "source": [
    "# Exercise 9: Display numbers from -10 to -1 using a for loop\n",
    "\n",
    "for i in range(-10, -0):\n",
    "    print(i)"
   ]
  },
  {
   "cell_type": "code",
   "execution_count": 9,
   "id": "bd74ec4e",
   "metadata": {},
   "outputs": [
    {
     "name": "stdout",
     "output_type": "stream",
     "text": [
      "0\n",
      "1\n",
      "2\n",
      "3\n",
      "4\n",
      "Done!\n"
     ]
    }
   ],
   "source": [
    "# Exercise 10: Display message “Done” after successful loop execution\n",
    "\n",
    "st = 0\n",
    "end = 5\n",
    "\n",
    "while st < end:\n",
    "    print(st)\n",
    "    st +=1\n",
    "else:\n",
    "    print('Done!')"
   ]
  },
  {
   "cell_type": "code",
   "execution_count": null,
   "id": "cb96b647",
   "metadata": {},
   "outputs": [],
   "source": [
    "import math\n",
    "\n",
    "x = math.sqrt(64)"
   ]
  },
  {
   "cell_type": "code",
   "execution_count": 183,
   "id": "1d7f627d",
   "metadata": {},
   "outputs": [
    {
     "name": "stdout",
     "output_type": "stream",
     "text": [
      "29\n",
      "31\n",
      "37\n",
      "41\n",
      "43\n",
      "47\n"
     ]
    }
   ],
   "source": [
    "# Exercise 11: Print all prime numbers within a range\n",
    "\n",
    "for i in range (25, 50):\n",
    "    if i % 2 !=0:\n",
    "        if i % 3 !=0:\n",
    "            if i % 5 !=0:\n",
    "                if i % 7 !=0:\n",
    "                    print(i)\n",
    "  "
   ]
  },
  {
   "cell_type": "code",
   "execution_count": 207,
   "id": "53910680",
   "metadata": {},
   "outputs": [
    {
     "name": "stdout",
     "output_type": "stream",
     "text": [
      "0 1 1 2 3 5 8 13 21 34 "
     ]
    }
   ],
   "source": [
    "# Exercise 12: Display Fibonacci series up to 10 terms\n",
    "\"\"\"Fibonacci sequence:\n",
    "0  1  1  2  3  5  8  13  21  34\"\"\"\n",
    "n1 = 0\n",
    "n2 = 1\n",
    "terms = 10\n",
    "\n",
    "for i in range (10):\n",
    "    print(n1, end = ' ')\n",
    "    n1, n2 = n2, n1 + n2\n",
    "    "
   ]
  },
  {
   "cell_type": "code",
   "execution_count": 191,
   "id": "51cf07b6",
   "metadata": {},
   "outputs": [
    {
     "name": "stdout",
     "output_type": "stream",
     "text": [
      "120\n"
     ]
    }
   ],
   "source": [
    "# Exercise 13: Find the factorial of a given number\n",
    "\n",
    "import math\n",
    "\n",
    "print(math.factorial(5))"
   ]
  },
  {
   "cell_type": "code",
   "execution_count": null,
   "id": "e847d33b",
   "metadata": {},
   "outputs": [
    {
     "data": {
      "text/plain": [
       "[1, 2, 3, 4, 5, 6]"
      ]
     },
     "execution_count": 234,
     "metadata": {},
     "output_type": "execute_result"
    }
   ],
   "source": [
    "# 4. Return Uncommon Elements of Lists\n",
    "\n",
    "list1 = [1, 1, 2] \n",
    "list2 = [2, 3, 4]\n",
    "[x for x in list1 if x not in list2] + [y for y in list2 if y not in list1]\n"
   ]
  }
 ],
 "metadata": {
  "kernelspec": {
   "display_name": "Python 3",
   "language": "python",
   "name": "python3"
  },
  "language_info": {
   "codemirror_mode": {
    "name": "ipython",
    "version": 3
   },
   "file_extension": ".py",
   "mimetype": "text/x-python",
   "name": "python",
   "nbconvert_exporter": "python",
   "pygments_lexer": "ipython3",
   "version": "3.13.5"
  }
 },
 "nbformat": 4,
 "nbformat_minor": 5
}
