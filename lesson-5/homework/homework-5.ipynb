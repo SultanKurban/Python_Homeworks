{
 "cells": [
  {
   "cell_type": "markdown",
   "id": "99d4acc5",
   "metadata": {},
   "source": [
    "#### Homework - 5"
   ]
  },
  {
   "cell_type": "code",
   "execution_count": 64,
   "id": "1f8c5463",
   "metadata": {},
   "outputs": [
    {
     "name": "stdout",
     "output_type": "stream",
     "text": [
      "True\n"
     ]
    }
   ],
   "source": [
    "# 1. def is_leap(year): \"\"\" Determines whether a given year is a leap year.\n",
    "\"\"\"\n",
    "A year is a leap year if:\n",
    "- It is divisible by 4, and\n",
    "- It is NOT divisible by 100, unless it is also divisible by 400.\n",
    "\n",
    "return (year % 4 == 0 and year % 100 != 0) or (year % 400 == 0)\n",
    "\"\"\"\n",
    "year = int(input(\"Yil kiriting\"))\n",
    "    \n",
    "if year % 4 == 0 and year % 100 != 0 or year % 400 == 0:\n",
    "    print(True)\n",
    "else:\n",
    "    print(False)\n",
    "\n",
    "\n"
   ]
  },
  {
   "cell_type": "code",
   "execution_count": 49,
   "id": "3cce98e0",
   "metadata": {},
   "outputs": [
    {
     "name": "stdout",
     "output_type": "stream",
     "text": [
      "Wierd\n"
     ]
    }
   ],
   "source": [
    "\"\"\" 2. If n is odd, print Weird\n",
    "If n is even and in the inclusive range of 2 to 5, print Not Weird\n",
    "If n is even and in the inclusive range of 6 to 20, print Weird\n",
    "If n is even and greater than 20, print Not Weird\n",
    "\"\"\"\n",
    "\n",
    "n = int(input('Son kiriting'))\n",
    "\n",
    "if n % 2 != 0:\n",
    "    print('Wierd')\n",
    "else:\n",
    "    if 2 <= n <= 5:\n",
    "        print(\"Not wierd\")\n",
    "    elif 6 <= n <=20:\n",
    "        print('Wierd')\n",
    "    elif n > 20:\n",
    "        print(\"Not wierd\")\n",
    "    else:\n",
    "        print('0 dan katta son kiriting')\n"
   ]
  },
  {
   "cell_type": "code",
   "execution_count": null,
   "id": "5518dcd3",
   "metadata": {},
   "outputs": [
    {
     "name": "stdout",
     "output_type": "stream",
     "text": [
      "4\n",
      "6\n",
      "8\n",
      "10\n",
      "12\n",
      "14\n"
     ]
    }
   ],
   "source": [
    "\"\"\"Given two integer numbers a and b. Find even numbers between this numbers. a and b are inclusive. Don't use loop.\n",
    "Give two solutions. x % 2 == 0\n",
    "\n",
    "Solution 1 with if-else statement.\n",
    "Solution 2 without if-else statement.\"\"\"\n",
    "# 3.\n",
    "\n",
    "def numbers(a, b):\n",
    "    if a > b:\n",
    "        a, b = b, a  \n",
    "    start = a if a % 2 == 0 else a + 1\n",
    "    return list(range(start, b + 1, 2))\n",
    "\n",
    "x = range(4, 16, 2)\n",
    "for n in x:\n",
    "  print(n)\n",
    "\n"
   ]
  }
 ],
 "metadata": {
  "kernelspec": {
   "display_name": "Python 3",
   "language": "python",
   "name": "python3"
  },
  "language_info": {
   "codemirror_mode": {
    "name": "ipython",
    "version": 3
   },
   "file_extension": ".py",
   "mimetype": "text/x-python",
   "name": "python",
   "nbconvert_exporter": "python",
   "pygments_lexer": "ipython3",
   "version": "3.13.5"
  }
 },
 "nbformat": 4,
 "nbformat_minor": 5
}
